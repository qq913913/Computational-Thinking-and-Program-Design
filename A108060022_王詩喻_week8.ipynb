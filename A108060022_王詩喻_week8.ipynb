{
  "nbformat": 4,
  "nbformat_minor": 0,
  "metadata": {
    "colab": {
      "name": "A108060022 王詩喻 week8",
      "provenance": [],
      "authorship_tag": "ABX9TyPfkPVdNHH8x/n6ZLuwYckH",
      "include_colab_link": true
    },
    "kernelspec": {
      "name": "python3",
      "display_name": "Python 3"
    }
  },
  "cells": [
    {
      "cell_type": "markdown",
      "metadata": {
        "id": "view-in-github",
        "colab_type": "text"
      },
      "source": [
        "<a href=\"https://colab.research.google.com/github/qq913913/Computational-Thinking-and-Program-Design/blob/master/A108060022_%E7%8E%8B%E8%A9%A9%E5%96%BB_week8.ipynb\" target=\"_parent\"><img src=\"https://colab.research.google.com/assets/colab-badge.svg\" alt=\"Open In Colab\"/></a>"
      ]
    },
    {
      "cell_type": "code",
      "metadata": {
        "id": "a9yG-jxEMHLv",
        "colab_type": "code",
        "colab": {
          "base_uri": "https://localhost:8080/",
          "height": 118
        },
        "outputId": "e211cf82-29a2-47dd-be77-f337bf771d4f"
      },
      "source": [
        "hours=input(\"enter movie hours\")\n",
        "minutes=input(\"enter movie minutes\")\n",
        "\n",
        "hours=int(hours)\n",
        "minutes=int(minutes)\n",
        "\n",
        "length=hours*60+minutes\n",
        "print(hours,\"hours\",minutes,\"minutes\",\"movies length is\",length,\"minutes\")\n",
        "\n",
        "hours1=length//60\n",
        "print(hours1)\n",
        "\n",
        "minutes1=length%60\n",
        "print(minutes1)\n",
        "\n",
        "print(length,\"minutes equals\",hours1,\"hours\",minutes1,\"minutes\")\n"
      ],
      "execution_count": 1,
      "outputs": [
        {
          "output_type": "stream",
          "text": [
            "enter movie hours2\n",
            "enter movie minutes13\n",
            "2 hours 13 minutes movies length is 133 minutes\n",
            "2\n",
            "13\n",
            "133 minutes equals 2 hours 13 minutes\n"
          ],
          "name": "stdout"
        }
      ]
    }
  ]
}