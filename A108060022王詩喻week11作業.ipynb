{
  "nbformat": 4,
  "nbformat_minor": 0,
  "metadata": {
    "colab": {
      "name": "A108060022王詩喻week11作業.ipynb",
      "provenance": [],
      "authorship_tag": "ABX9TyMAqSV3g7QE5oSNhSFuuGjR",
      "include_colab_link": true
    },
    "kernelspec": {
      "name": "python3",
      "display_name": "Python 3"
    }
  },
  "cells": [
    {
      "cell_type": "markdown",
      "metadata": {
        "id": "view-in-github",
        "colab_type": "text"
      },
      "source": [
        "<a href=\"https://colab.research.google.com/github/qq913913/Computational-Thinking-and-Program-Design/blob/master/A108060022%E7%8E%8B%E8%A9%A9%E5%96%BBweek11%E4%BD%9C%E6%A5%AD.ipynb\" target=\"_parent\"><img src=\"https://colab.research.google.com/assets/colab-badge.svg\" alt=\"Open In Colab\"/></a>"
      ]
    },
    {
      "cell_type": "code",
      "metadata": {
        "id": "SHfkhQz34keo",
        "colab_type": "code",
        "colab": {
          "base_uri": "https://localhost:8080/",
          "height": 437
        },
        "outputId": "a886299e-2dc9-4524-cb3d-6075769784ec"
      },
      "source": [
        "print(\"哈囉。我是Winnie 19。我是一個聊天機器人。\")\n",
        "print(\"我喜歡動物，也喜歡聊食物。\")\n",
        "name = input(\"你叫什麼名字？: \")\n",
        "print(\"你好\", name, \"很高興認識你\")\n",
        "year = input(\"我記不太清楚日期。今年是幾年？： \")\n",
        "print(\"好的，我覺得沒錯。謝謝！\")\n",
        "myage = input(\"你能猜出我的年齡嗎？ - 輸入一個數字： \")\n",
        "print(\"沒錯，你猜對了。我\", myage)\n",
        "myage = int(myage)\n",
        "nyears = 100 - myage\n",
        "print(\"我再\", nyears, \"年就滿100歲了。\")\n",
        "print(\"到時候是\", int(year) + nyears)\n",
        "print(\"我喜歡巧克力，也喜歡嘗試各種新食物。\")\n",
        "food = input(\"你呢。你最喜歡的食物是什麼？： \")\n",
        "print(\"我也喜歡\", food)\n",
        "question = \"你多久吃一次\" + food + \"?: \"\n",
        "howoften = input(question)\n",
        "print(\"真有趣。不知道這樣對健康好不好！\")\n",
        "animal = input(\"我最喜歡的動物是長頸鹿。你呢？； \")\n",
        "print(animal, \"! 我不喜歡。\")\n",
        "print(\"不知道\", animal, \"喜不喜歡吃\", food, \"?\")\n",
        "feeling = input(\"你今天覺得如何？； \")\n",
        "print(\"為什麼你現在覺得\", feeling, \"呢？\")\n",
        "reason = input(\"請告訴我： \")\n",
        "print(\"我知道了。謝謝分享。\")\n",
        "print(\"今天事情真多！\")\n",
        "print(\"我累到無法繼續聊天了，之後再聊。\")\n",
        "print(\"再見\", name, \"我喜歡跟你聊天！\")"
      ],
      "execution_count": 2,
      "outputs": [
        {
          "output_type": "stream",
          "text": [
            "哈囉。我是Winnie 19。我是一個聊天機器人。\n",
            "我喜歡動物，也喜歡聊食物。\n",
            "你叫什麼名字？: 王詩喻\n",
            "你好 王詩喻 很高興認識你\n",
            "我記不太清楚日期。今年是幾年？： 2020\n",
            "好的，我覺得沒錯。謝謝！\n",
            "你能猜出我的年齡嗎？ - 輸入一個數字： 18\n",
            "沒錯，你猜對了。我 18\n",
            "我再 82 年就滿100歲了。\n",
            "到時候是 2102\n",
            "我喜歡巧克力，也喜歡嘗試各種新食物。\n",
            "你呢。你最喜歡的食物是什麼？： 果乾\n",
            "我也喜歡 果乾\n",
            "你多久吃一次果乾?: 每天吃\n",
            "真有趣。不知道這樣對健康好不好！\n",
            "我最喜歡的動物是長頸鹿。你呢？； 海豚\n",
            "海豚 ! 我不喜歡。\n",
            "不知道 海豚 喜不喜歡吃 果乾 ?\n",
            "你今天覺得如何？； 很美好\n",
            "為什麼你現在覺得 很美好 呢？\n",
            "請告訴我： 吃到美味的便當\n",
            "我知道了。謝謝分享。\n",
            "今天事情真多！\n",
            "我累到無法繼續聊天了，之後再聊。\n",
            "再見 王詩喻 我喜歡跟你聊天！\n"
          ],
          "name": "stdout"
        }
      ]
    }
  ]
}