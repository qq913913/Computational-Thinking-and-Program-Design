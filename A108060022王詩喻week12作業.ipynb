{
  "nbformat": 4,
  "nbformat_minor": 0,
  "metadata": {
    "colab": {
      "name": "A108060022王詩喻week12作業.ipynb",
      "provenance": [],
      "authorship_tag": "ABX9TyOroCmdqNb7g9AYCQzc5a02",
      "include_colab_link": true
    },
    "kernelspec": {
      "name": "python3",
      "display_name": "Python 3"
    }
  },
  "cells": [
    {
      "cell_type": "markdown",
      "metadata": {
        "id": "view-in-github",
        "colab_type": "text"
      },
      "source": [
        "<a href=\"https://colab.research.google.com/github/qq913913/Computational-Thinking-and-Program-Design/blob/master/A108060022%E7%8E%8B%E8%A9%A9%E5%96%BBweek12%E4%BD%9C%E6%A5%AD.ipynb\" target=\"_parent\"><img src=\"https://colab.research.google.com/assets/colab-badge.svg\" alt=\"Open In Colab\"/></a>"
      ]
    },
    {
      "cell_type": "code",
      "metadata": {
        "id": "bFOe7pqmrZOm",
        "colab_type": "code",
        "colab": {
          "base_uri": "https://localhost:8080/",
          "height": 84
        },
        "outputId": "4cd1741e-2688-4100-e810-e9057b616bb7"
      },
      "source": [
        "noodle=input(\"有麵嗎?(yes/no)\")\n",
        "sauce=input(\"有醬料嗎?(yes/no)\")\n",
        "if noodle==\"yes\":\n",
        "  if sauce==\"yes\":\n",
        "    print(\"可做義大利麵!\")\n",
        "print(\"well done!\")\n"
      ],
      "execution_count": 2,
      "outputs": [
        {
          "output_type": "stream",
          "text": [
            "有麵嗎?(yes/no)yes\n",
            "有醬料嗎?(yes/no)yes\n",
            "可做義大利麵!\n",
            "well done!\n"
          ],
          "name": "stdout"
        }
      ]
    },
    {
      "cell_type": "code",
      "metadata": {
        "id": "oj8ypBl4u81V",
        "colab_type": "code",
        "colab": {
          "base_uri": "https://localhost:8080/",
          "height": 67
        },
        "outputId": "19c94254-beaa-4c62-c950-45ef4761ac75"
      },
      "source": [
        "noodle=input(\"有麵嗎?(yes/no)\")\n",
        "sauce=input(\"有醬料嗎?(yes/no)\")\n",
        "if noodle==\"yes\" and sauce==\"yes\":\n",
        "  print(\"今天晚上吃義大利麵!\")\n",
        "  "
      ],
      "execution_count": 3,
      "outputs": [
        {
          "output_type": "stream",
          "text": [
            "有麵嗎?(yes/no)yes\n",
            "有醬料嗎?(yes/no)yes\n",
            "今天晚上吃義大利麵!\n"
          ],
          "name": "stdout"
        }
      ]
    }
  ]
}