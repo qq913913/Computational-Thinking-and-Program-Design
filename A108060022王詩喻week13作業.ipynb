{
  "nbformat": 4,
  "nbformat_minor": 0,
  "metadata": {
    "colab": {
      "name": "A108060022王詩喻week13作業.ipynb",
      "provenance": [],
      "authorship_tag": "ABX9TyNL/RHHx00dtAq5P1riynG1",
      "include_colab_link": true
    },
    "kernelspec": {
      "name": "python3",
      "display_name": "Python 3"
    }
  },
  "cells": [
    {
      "cell_type": "markdown",
      "metadata": {
        "id": "view-in-github",
        "colab_type": "text"
      },
      "source": [
        "<a href=\"https://colab.research.google.com/github/qq913913/Computational-Thinking-and-Program-Design/blob/master/A108060022%E7%8E%8B%E8%A9%A9%E5%96%BBweek13%E4%BD%9C%E6%A5%AD.ipynb\" target=\"_parent\"><img src=\"https://colab.research.google.com/assets/colab-badge.svg\" alt=\"Open In Colab\"/></a>"
      ]
    },
    {
      "cell_type": "code",
      "metadata": {
        "id": "Tc4KpQWNZ7QN",
        "colab_type": "code",
        "colab": {
          "base_uri": "https://localhost:8080/",
          "height": 50
        },
        "outputId": "c5cb6bf9-08bd-4d25-f985-984755114fc7"
      },
      "source": [
        "score = int(input(\"你考幾分?\"))\n",
        "if score < 60:\n",
        "  print(\"再加油~\")\n",
        "else:\n",
        "  if 80 > score >= 60:\n",
        "   print(\"通過\")\n",
        "  else:\n",
        "    print(\"非常好!\")\n"
      ],
      "execution_count": 12,
      "outputs": [
        {
          "output_type": "stream",
          "text": [
            "你考幾分?88\n",
            "非常好!\n"
          ],
          "name": "stdout"
        }
      ]
    }
  ]
}