{
  "nbformat": 4,
  "nbformat_minor": 0,
  "metadata": {
    "colab": {
      "name": "A108060022王詩喻week14.ipynb",
      "provenance": [],
      "authorship_tag": "ABX9TyPMbb+ib2frnRFBqRm6th2Y",
      "include_colab_link": true
    },
    "kernelspec": {
      "name": "python3",
      "display_name": "Python 3"
    }
  },
  "cells": [
    {
      "cell_type": "markdown",
      "metadata": {
        "id": "view-in-github",
        "colab_type": "text"
      },
      "source": [
        "<a href=\"https://colab.research.google.com/github/qq913913/Computational-Thinking-and-Program-Design/blob/master/A108060022%E7%8E%8B%E8%A9%A9%E5%96%BBweek14.ipynb\" target=\"_parent\"><img src=\"https://colab.research.google.com/assets/colab-badge.svg\" alt=\"Open In Colab\"/></a>"
      ]
    },
    {
      "cell_type": "code",
      "metadata": {
        "id": "Zr3DzO94SdAO",
        "colab_type": "code",
        "colab": {
          "base_uri": "https://localhost:8080/",
          "height": 101
        },
        "outputId": "3f527460-6df3-49d3-e4ac-bbd3f44da306"
      },
      "source": [
        "weight = int(input(\"體重(kg):\"))\n",
        "high = int(input(\"身高(cm):\"))\n",
        "high = high / 100\n",
        "BMI=weight/(high)**2\n",
        "print(\"BMI 計算結果 = \"+ str(BMI))\n",
        "print(\"您的BMI數值為 =\", round(BMI,2))\n",
        "\n",
        "if BMI <18.5:\n",
        "    print(\"{體重判定->過瘦}\")\n",
        "elif BMI <= 23.9:\n",
        "    print(\"{體重判定->正常}\")\n",
        "elif BMI <=27:\n",
        "    print(\"{體重判定->過重}\")\n"
      ],
      "execution_count": 3,
      "outputs": [
        {
          "output_type": "stream",
          "text": [
            "體重(kg):40\n",
            "身高(cm):154\n",
            "BMI 計算結果 = 16.866250632484398\n",
            "您的BMI數值為 = 16.87\n",
            "{體重判定->過瘦}\n"
          ],
          "name": "stdout"
        }
      ]
    },
    {
      "cell_type": "code",
      "metadata": {
        "id": "9ZrFpvK5o9lX",
        "colab_type": "code",
        "colab": {
          "base_uri": "https://localhost:8080/",
          "height": 185
        },
        "outputId": "506e8caa-404d-4f6d-909f-f0a9cb3e8dc0"
      },
      "source": [
        "i = 1\n",
        "while i <= 10:\n",
        "        print(\"hello\")\n",
        "        i += 1\n"
      ],
      "execution_count": 5,
      "outputs": [
        {
          "output_type": "stream",
          "text": [
            "hello\n",
            "hello\n",
            "hello\n",
            "hello\n",
            "hello\n",
            "hello\n",
            "hello\n",
            "hello\n",
            "hello\n",
            "hello\n"
          ],
          "name": "stdout"
        }
      ]
    }
  ]
}