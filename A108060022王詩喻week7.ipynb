{
  "nbformat": 4,
  "nbformat_minor": 0,
  "metadata": {
    "colab": {
      "name": "A108060022王詩喻week7",
      "provenance": [],
      "authorship_tag": "ABX9TyOBq6IxBqkzjmDZY4kNlTFW",
      "include_colab_link": true
    },
    "kernelspec": {
      "name": "python3",
      "display_name": "Python 3"
    }
  },
  "cells": [
    {
      "cell_type": "markdown",
      "metadata": {
        "id": "view-in-github",
        "colab_type": "text"
      },
      "source": [
        "<a href=\"https://colab.research.google.com/github/qq913913/Computational-Thinking-and-Program-Design/blob/master/A108060022%E7%8E%8B%E8%A9%A9%E5%96%BBweek7.ipynb\" target=\"_parent\"><img src=\"https://colab.research.google.com/assets/colab-badge.svg\" alt=\"Open In Colab\"/></a>"
      ]
    },
    {
      "cell_type": "code",
      "metadata": {
        "id": "9fuJAl9VUlJp",
        "colab_type": "code",
        "colab": {
          "base_uri": "https://localhost:8080/",
          "height": 134
        },
        "outputId": "42c5d601-35ff-4f75-cb82-4ba8c1e196da"
      },
      "source": [
        "tv_show='梨泰院Class'#電視劇名稱\n",
        "release_year='2020'#播出年分\n",
        "episode='16'#集數\n",
        "language='韓文'#語言\n",
        "director='金成允'#導演\n",
        "star1='朴敘俊'#男主角\n",
        "star2='金多美'#女主角\n",
        "print(tv_show)\n",
        "print(release_year)\n",
        "print(episode)\n",
        "print(language)\n",
        "print(director)\n",
        "print(star1)\n",
        "print(star2)"
      ],
      "execution_count": 1,
      "outputs": [
        {
          "output_type": "stream",
          "text": [
            "梨泰院Class\n",
            "2020\n",
            "16\n",
            "韓文\n",
            "金成允\n",
            "朴敘俊\n",
            "金多美\n"
          ],
          "name": "stdout"
        }
      ]
    }
  ]
}