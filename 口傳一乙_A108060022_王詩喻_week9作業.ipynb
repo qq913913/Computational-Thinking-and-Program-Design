{
  "nbformat": 4,
  "nbformat_minor": 0,
  "metadata": {
    "colab": {
      "name": "口傳一乙 A108060022 王詩喻 week9作業.ipynb",
      "provenance": [],
      "authorship_tag": "ABX9TyPSXoPqBPVmaRWnXot5D2gC",
      "include_colab_link": true
    },
    "kernelspec": {
      "name": "python3",
      "display_name": "Python 3"
    }
  },
  "cells": [
    {
      "cell_type": "markdown",
      "metadata": {
        "id": "view-in-github",
        "colab_type": "text"
      },
      "source": [
        "<a href=\"https://colab.research.google.com/github/qq913913/Computational-Thinking-and-Program-Design/blob/master/%E5%8F%A3%E5%82%B3%E4%B8%80%E4%B9%99_A108060022_%E7%8E%8B%E8%A9%A9%E5%96%BB_week9%E4%BD%9C%E6%A5%AD.ipynb\" target=\"_parent\"><img src=\"https://colab.research.google.com/assets/colab-badge.svg\" alt=\"Open In Colab\"/></a>"
      ]
    },
    {
      "cell_type": "code",
      "metadata": {
        "id": "OjCLqJEzhfIc",
        "colab_type": "code",
        "colab": {
          "base_uri": "https://localhost:8080/",
          "height": 54
        },
        "outputId": "6fe6e022-9631-4c8b-c2d4-3dca3941d210"
      },
      "source": [
        "座號=int(input('請輸入座號'))\n",
        "組別 = (座號-1)//5+1\n",
        "print('組別為',組別)"
      ],
      "execution_count": 7,
      "outputs": [
        {
          "output_type": "stream",
          "text": [
            "請輸入座號18\n",
            "組別為 4\n"
          ],
          "name": "stdout"
        }
      ]
    },
    {
      "cell_type": "code",
      "metadata": {
        "id": "vXtO46ejkDIC",
        "colab_type": "code",
        "colab": {
          "base_uri": "https://localhost:8080/",
          "height": 72
        },
        "outputId": "8dc271dd-8e57-448a-c4e0-50c596dcbc06"
      },
      "source": [
        "import math\n",
        "r=float(input('請輸入半徑'))\n",
        "面積=math.pi*r*r\n",
        "圓周長=2*math.pi*r\n",
        "print(\"圓面積為\",面積)\n",
        "print('圓周長為',圓周長)\n",
        "\n"
      ],
      "execution_count": 12,
      "outputs": [
        {
          "output_type": "stream",
          "text": [
            "請輸入半徑10\n",
            "圓面積為 314.1592653589793\n",
            "圓周長為 62.83185307179586\n"
          ],
          "name": "stdout"
        }
      ]
    },
    {
      "cell_type": "code",
      "metadata": {
        "id": "cULSqo6PrDE2",
        "colab_type": "code",
        "colab": {
          "base_uri": "https://localhost:8080/",
          "height": 54
        },
        "outputId": "a8bdfef7-b919-45a4-edeb-84b35c9f4db9"
      },
      "source": [
        "c=int(input(\"請輸入攝氏溫度\"))\n",
        "f=c*9/5+32\n",
        "print(\"華氏溫度為\",f)\n"
      ],
      "execution_count": 15,
      "outputs": [
        {
          "output_type": "stream",
          "text": [
            "請輸入攝氏溫度30\n",
            "華氏溫度為 86.0\n"
          ],
          "name": "stdout"
        }
      ]
    },
    {
      "cell_type": "code",
      "metadata": {
        "id": "x6tQy8W0tFGz",
        "colab_type": "code",
        "colab": {
          "base_uri": "https://localhost:8080/",
          "height": 90
        },
        "outputId": "054cadda-516b-4aed-90e0-359529886d31"
      },
      "source": [
        "衣服=int(input('請輸入衣服件數'))\n",
        "褲子=int(input('請輸入褲子件數'))\n",
        "背心=int(input('請輸入背心件數'))\n",
        "總金額=衣服*300+褲子*350+背心*400\n",
        "print(\"購買總金額為\",總金額)\n"
      ],
      "execution_count": 17,
      "outputs": [
        {
          "output_type": "stream",
          "text": [
            "請輸入衣服件數1\n",
            "請輸入褲子件數1\n",
            "請輸入背心件數1\n",
            "購買總金額為 1050\n"
          ],
          "name": "stdout"
        }
      ]
    },
    {
      "cell_type": "code",
      "metadata": {
        "id": "YElpOniLvDp7",
        "colab_type": "code",
        "colab": {
          "base_uri": "https://localhost:8080/",
          "height": 54
        },
        "outputId": "6428a59f-50ce-4300-f3be-cbc07eda05c0"
      },
      "source": [
        "數量=int(input('請輸入數量'))\n",
        "一打=數量//12\n",
        "不足一打=數量%12\n",
        "price=一打*200+不足一打*20\n",
        "print('總金額為',price)\n"
      ],
      "execution_count": 19,
      "outputs": [
        {
          "output_type": "stream",
          "text": [
            "請輸入數量20\n",
            "總金額為 360\n"
          ],
          "name": "stdout"
        }
      ]
    },
    {
      "cell_type": "code",
      "metadata": {
        "id": "pN0wIDLpwtvv",
        "colab_type": "code",
        "colab": {
          "base_uri": "https://localhost:8080/",
          "height": 108
        },
        "outputId": "bd7b9413-9231-4921-d5bc-c7b83aa6c775"
      },
      "source": [
        "a=int(input(\"請輸入第一次期中考成績\"))\n",
        "b=int(input(\"請輸入第二次期中考成績\"))\n",
        "c=int(input(\"請輸入期末考成績\"))\n",
        "total=a+b+c\n",
        "average=(a+b+c)/3\n",
        "print(\"分數加總為\",total)\n",
        "print(\"分數平均為\",average)\n",
        "\n"
      ],
      "execution_count": 21,
      "outputs": [
        {
          "output_type": "stream",
          "text": [
            "請輸入第一次期中考成績70\n",
            "請輸入第二次期中考成績80\n",
            "請輸入期末考成績71\n",
            "分數加總為 221\n",
            "分數平均為 73.66666666666667\n"
          ],
          "name": "stdout"
        }
      ]
    },
    {
      "cell_type": "code",
      "metadata": {
        "id": "evigiNDwzoY5",
        "colab_type": "code",
        "colab": {}
      },
      "source": [
        ""
      ],
      "execution_count": 0,
      "outputs": []
    }
  ]
}